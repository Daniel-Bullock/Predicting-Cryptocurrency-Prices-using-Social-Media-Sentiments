{
 "cells": [
  {
   "cell_type": "code",
   "execution_count": 86,
   "id": "66a08c64",
   "metadata": {},
   "outputs": [],
   "source": [
    "import numpy as np\n",
    "import matplotlib.pyplot as plt\n",
    "import pandas as pd\n",
    "import torch\n",
    "import torch.nn as nn\n",
    "from torch.autograd import Variable\n",
    "from sklearn.preprocessing import MinMaxScaler\n",
    "import math\n",
    "from sklearn.metrics import mean_squared_error"
   ]
  },
  {
   "cell_type": "code",
   "execution_count": 48,
   "id": "25098e06",
   "metadata": {},
   "outputs": [
    {
     "name": "stdout",
     "output_type": "stream",
     "text": [
      "False\n",
      "False\n"
     ]
    }
   ],
   "source": [
    "chain_data = pd.read_pickle('../ethChainData/processed_data/LINK_eth_stat_pandas_1m.pickle')\n",
    "print(chain_data.isnull().values.any())\n",
    "price_data = pd.read_pickle('../priceData/data/coinbase_pandas_LINK-USD_1m_2021-11-30 16:35:00_2021-12-11 19:52:00_list.pickle')\n",
    "print(price_data.isnull().values.any())"
   ]
  },
  {
   "cell_type": "code",
   "execution_count": 49,
   "id": "3820f16e",
   "metadata": {},
   "outputs": [
    {
     "name": "stdout",
     "output_type": "stream",
     "text": [
      "                     time    meanVolume  meanFromBalance  meanToBalance  \\\n",
      "0     2021-11-30 16:35:00  3.642499e+20     1.686824e+06    4791.565609   \n",
      "1     2021-11-30 16:36:00  3.290219e+20     0.000000e+00  658049.550715   \n",
      "2     2021-11-30 16:37:00  1.204266e+21     3.901061e+06    9583.131219   \n",
      "3     2021-11-30 16:38:00  5.617914e+19     2.028188e+05  147058.317108   \n",
      "4     2021-11-30 16:39:00  2.337520e+20     2.575410e+05      97.986140   \n",
      "...                   ...           ...              ...            ...   \n",
      "14863 2021-12-11 19:47:00  1.295969e+21     2.789912e+05   65283.437238   \n",
      "14864 2021-12-11 19:49:00  2.583157e+19     1.492031e+06    1810.664895   \n",
      "14865 2021-12-11 19:50:00  1.284027e+18     3.748392e+04       1.284027   \n",
      "14866 2021-12-11 19:51:00  1.097508e+21     2.028490e+05  193793.580143   \n",
      "14867 2021-12-11 19:52:00  9.749775e+18     0.000000e+00  178043.362814   \n",
      "\n",
      "       medianVolume  medianFromBalance  medianToBalance     maxVolume  \\\n",
      "0      3.581353e+19       1.769255e+05         0.000000  1.379588e+21   \n",
      "1      4.099943e+20       0.000000e+00     18523.640979  4.408630e+20   \n",
      "2      1.204266e+21       3.901061e+06      9583.131219  1.444393e+21   \n",
      "3      3.285590e+19       1.600000e-01         0.000000  2.000075e+20   \n",
      "4      2.566307e+20       1.628900e+05        10.873212  4.000000e+20   \n",
      "...             ...                ...              ...           ...   \n",
      "14863  1.711990e+19       1.780434e+05         6.645761  6.425545e+21   \n",
      "14864  9.756721e+18       6.696577e+00       171.088000  6.108800e+19   \n",
      "14865  1.284027e+18       3.748392e+04         1.284027  1.284027e+18   \n",
      "14866  2.434625e+19       1.013230e+03       216.553120  6.425545e+21   \n",
      "14867  9.749775e+18       0.000000e+00    178043.362814  9.749775e+18   \n",
      "\n",
      "       maxFromBalance  maxToBalance     sumVolume  sumFromBalance  \\\n",
      "0        6.393446e+06  1.916626e+04  1.457000e+21    6.747297e+06   \n",
      "1        0.000000e+00  1.955625e+06  9.870656e+20    0.000000e+00   \n",
      "2        6.393446e+06  1.916626e+04  2.408532e+21    7.802121e+06   \n",
      "3        8.905216e+05  8.820264e+05  3.370748e+20    1.216913e+06   \n",
      "4        7.043839e+05  3.701981e+02  9.350078e+20    1.030164e+06   \n",
      "...               ...           ...           ...             ...   \n",
      "14863    8.905216e+05  3.263911e+05  6.479843e+21    1.394956e+06   \n",
      "14864    4.476086e+06  5.254257e+03  7.749472e+19    4.476093e+06   \n",
      "14865    3.748392e+04  1.284027e+00  1.284027e+18    3.748392e+04   \n",
      "14866    8.886764e+05  7.912054e+05  6.585046e+21    1.217094e+06   \n",
      "14867    0.000000e+00  1.780434e+05  9.749775e+18    0.000000e+00   \n",
      "\n",
      "       sumToBalance       low      high      open     close    volume  \n",
      "0      1.916626e+04  26.14973  26.26611  26.14973  26.23260   4256.66  \n",
      "1      1.974149e+06  26.13222  26.22240  26.22240  26.16862   2510.27  \n",
      "2      1.916626e+04  26.06104  26.16862  26.16862  26.15800   2928.89  \n",
      "3      8.823499e+05  26.08698  26.17741  26.17146  26.16218   1947.70  \n",
      "4      3.919446e+02  26.06104  26.19291  26.16253  26.10213  17334.59  \n",
      "...             ...       ...       ...       ...       ...       ...  \n",
      "14863  3.264172e+05  19.49000  19.52000  19.50000  19.52000   1230.32  \n",
      "14864  5.431995e+03  19.46000  19.50000  19.50000  19.46000   2514.14  \n",
      "14865  1.284027e+00  19.46000  19.52000  19.48000  19.52000   1259.46  \n",
      "14866  1.162761e+06  19.46000  19.51000  19.51000  19.48000   1049.71  \n",
      "14867  1.780434e+05  19.45000  19.49000  19.46000  19.47000    404.90  \n",
      "\n",
      "[14868 rows x 18 columns]\n"
     ]
    }
   ],
   "source": [
    "data = pd.merge(chain_data, price_data, on='time')\n",
    "print(data)"
   ]
  },
  {
   "cell_type": "code",
   "execution_count": 54,
   "id": "2f67b91d",
   "metadata": {
    "scrolled": true
   },
   "outputs": [
    {
     "data": {
      "image/png": "[encoded data removed]",
      "text/plain": [
       "<Figure size 432x288 with 1 Axes>"
      ]
     },
     "metadata": {
      "needs_background": "light"
     },
     "output_type": "display_data"
    }
   ],
   "source": [
    "plt.plot(data['time'], data['open'])\n",
    "plt.show()"
   ]
  },
  {
   "cell_type": "code",
   "execution_count": 57,
   "id": "8c66a398",
   "metadata": {},
   "outputs": [
    {
     "name": "stdout",
     "output_type": "stream",
     "text": [
      "2\n"
     ]
    }
   ],
   "source": [
    "dataset = data.iloc[:,1:17].values\n",
    "print(len(dataset[1:3,2]))"
   ]
  },
  {
   "cell_type": "code",
   "execution_count": 71,
   "id": "4aad242c",
   "metadata": {},
   "outputs": [],
   "source": [
    "def data_window(data, sequence_length, output_dim, leeway):\n",
    "    x = []\n",
    "    y = []\n",
    "    \n",
    "    for i in range(len(data)-sequence_length-1-leeway):\n",
    "        temp_x = data[i:(i+sequence_length)]\n",
    "        temp_y = data[(i+sequence_length+leeway),output_dim]\n",
    "        x.append(temp_x)\n",
    "        y.append(temp_y)\n",
    "    return np.array(x), np.array(y).reshape(-1,1)\n",
    "\n",
    "scaler = MinMaxScaler()\n",
    "training_data = scaler.fit_transform(dataset)\n",
    "\n",
    "\n",
    "sequence_length = 50\n",
    "output_dim - 15 # close price\n",
    "leeway = 60 # price after 1 hour\n",
    "x,y = data_window(training_data, sequence_length, output_dim, leeway)\n",
    "\n",
    "test_ratio = 0.33\n",
    "train_size = int(len(y)*(1-test_ratio))\n",
    "test_size = len(y) - train_size\n",
    "\n",
    "data_x = Variable(torch.tensor(x)).float()\n",
    "data_y = Variable(torch.tensor(y)).float()\n",
    "\n",
    "train_x = Variable(torch.tensor(x[:train_size])).float()\n",
    "train_y = Variable(torch.tensor(y[:train_size])).float()\n",
    "\n",
    "test_x = Variable(torch.tensor(x[train_size:])).float()\n",
    "test_y = Variable(torch.tensor(y[train_size:])).float()"
   ]
  },
  {
   "cell_type": "code",
   "execution_count": 72,
   "id": "17316416",
   "metadata": {},
   "outputs": [
    {
     "name": "stdout",
     "output_type": "stream",
     "text": [
      "torch.Size([9927, 50, 16]) torch.Size([9927, 1])\n"
     ]
    }
   ],
   "source": [
    "print(train_x.shape, train_y.shape)"
   ]
  },
  {
   "cell_type": "code",
   "execution_count": 73,
   "id": "1ab5ea59",
   "metadata": {},
   "outputs": [
    {
     "name": "stdout",
     "output_type": "stream",
     "text": [
      "LSTM(\n",
      "  (lstm): LSTM(16, 64, num_layers=2, batch_first=True)\n",
      "  (fc): Linear(in_features=64, out_features=1, bias=True)\n",
      ")\n",
      "10\n",
      "torch.Size([256, 16])\n",
      "torch.Size([256, 64])\n",
      "torch.Size([256])\n",
      "torch.Size([256])\n",
      "torch.Size([256, 64])\n",
      "torch.Size([256, 64])\n",
      "torch.Size([256])\n",
      "torch.Size([256])\n",
      "torch.Size([1, 64])\n",
      "torch.Size([1])\n"
     ]
    }
   ],
   "source": [
    "input_dim = 16\n",
    "hidden_dim = 64\n",
    "num_layers = 2 \n",
    "output_dim = 1\n",
    "\n",
    "# Here we define our model as a class\n",
    "class LSTM(nn.Module):\n",
    "    def __init__(self, input_dim, hidden_dim, num_layers, output_dim):\n",
    "        super(LSTM, self).__init__()\n",
    "        # Hidden dimensions\n",
    "        self.hidden_dim = hidden_dim\n",
    "\n",
    "        # Number of hidden layers\n",
    "        self.num_layers = num_layers\n",
    "\n",
    "        # batch_first=True causes input/output tensors to be of shape\n",
    "        # (batch_dim, seq_dim, feature_dim)\n",
    "        self.lstm = nn.LSTM(input_dim, hidden_dim, num_layers, batch_first=True)\n",
    "\n",
    "        # Readout layer\n",
    "        self.fc = nn.Linear(hidden_dim, output_dim)\n",
    "\n",
    "    def forward(self, x):\n",
    "        # Initialize hidden state with zeros\n",
    "        h0 = torch.zeros(self.num_layers, x.size(0), self.hidden_dim).requires_grad_()\n",
    "\n",
    "        # Initialize cell state\n",
    "        c0 = torch.zeros(self.num_layers, x.size(0), self.hidden_dim).requires_grad_()\n",
    "\n",
    "        # We need to detach as we are doing truncated backpropagation through time (BPTT)\n",
    "        # If we don't, we'll backprop all the way to the start even after going through another batch\n",
    "        out, (hn, cn) = self.lstm(x, (h0.detach(), c0.detach()))\n",
    "\n",
    "        # Index hidden state of last time step\n",
    "        # out.size() --> 100, 32, 100\n",
    "        # out[:, -1, :] --> 100, 100 --> just want last time step hidden states! \n",
    "        out = self.fc(out[:, -1, :]) \n",
    "        # out.size() --> 100, 10\n",
    "        return out\n",
    "    \n",
    "\n",
    "model = LSTM(input_dim=input_dim, hidden_dim=hidden_dim, output_dim=output_dim, num_layers=num_layers)\n",
    "\n",
    "loss_fn = torch.nn.MSELoss()\n",
    "\n",
    "optimiser = torch.optim.Adam(model.parameters(), lr=0.01)\n",
    "print(model)\n",
    "print(len(list(model.parameters())))\n",
    "for i in range(len(list(model.parameters()))):\n",
    "    print(list(model.parameters())[i].size())  "
   ]
  },
  {
   "cell_type": "code",
   "execution_count": 74,
   "id": "0fadfe4c",
   "metadata": {},
   "outputs": [
    {
     "name": "stdout",
     "output_type": "stream",
     "text": [
      "Epoch  10 MSE:  0.03853249549865723\n",
      "Epoch  20 MSE:  0.01701643131673336\n",
      "Epoch  30 MSE:  0.0048135071992874146\n",
      "Epoch  40 MSE:  0.0009987704688683152\n",
      "Epoch  50 MSE:  0.0007113784668035805\n",
      "Epoch  60 MSE:  0.0004357708094175905\n",
      "Epoch  70 MSE:  0.00027273656451143324\n",
      "Epoch  80 MSE:  0.00020292471162974834\n",
      "Epoch  90 MSE:  0.0001695731480140239\n"
     ]
    }
   ],
   "source": [
    "# Train model\n",
    "#####################\n",
    "num_epochs = 100\n",
    "hist = np.zeros(num_epochs)\n",
    "\n",
    "# Number of steps to unroll\n",
    "seq_dim =sequence_length-1  \n",
    "\n",
    "for t in range(num_epochs):\n",
    "    # Initialise hidden state\n",
    "    # Don't do this if you want your LSTM to be stateful\n",
    "    #model.hidden = model.init_hidden()\n",
    "    \n",
    "    # Forward pass\n",
    "    train_y_pred = model(train_x)\n",
    "\n",
    "    loss = loss_fn(train_y_pred, train_y)\n",
    "    if t % 10 == 0 and t !=0:\n",
    "        print(\"Epoch \", t, \"MSE: \", loss.item())\n",
    "    hist[t] = loss.item()\n",
    "\n",
    "    # Zero out gradient, else they will accumulate between epochs\n",
    "    optimiser.zero_grad()\n",
    "\n",
    "    # Backward pass\n",
    "    loss.backward()\n",
    "\n",
    "    # Update parameters\n",
    "    optimiser.step()"
   ]
  },
  {
   "cell_type": "code",
   "execution_count": 75,
   "id": "dbb2751b",
   "metadata": {
    "scrolled": true
   },
   "outputs": [
    {
     "data": {
      "image/png": "[encoded data removed]",
      "text/plain": [
       "<Figure size 432x288 with 1 Axes>"
      ]
     },
     "metadata": {
      "needs_background": "light"
     },
     "output_type": "display_data"
    }
   ],
   "source": [
    "plt.plot(hist, label=\"Training loss\")\n",
    "plt.legend()\n",
    "plt.show()"
   ]
  },
  {
   "cell_type": "code",
   "execution_count": 78,
   "id": "b850b19b",
   "metadata": {},
   "outputs": [
    {
     "data": {
      "text/plain": [
       "torch.Size([9927, 1])"
      ]
     },
     "execution_count": 78,
     "metadata": {},
     "output_type": "execute_result"
    }
   ],
   "source": [
    "np.shape(train_y_pred)"
   ]
  },
  {
   "cell_type": "code",
   "execution_count": 94,
   "id": "e9852f91",
   "metadata": {
    "scrolled": true
   },
   "outputs": [
    {
     "name": "stdout",
     "output_type": "stream",
     "text": [
      "[[0.]\n",
      " [0.]\n",
      " [0.]\n",
      " ...\n",
      " [0.]\n",
      " [0.]\n",
      " [0.]]\n"
     ]
    }
   ],
   "source": [
    "output_scaler = MinMaxScaler()\n",
    "output_training_data = output_scaler.fit_transform(dataset[:,15].reshape(-1,1))\n",
    "print(output_training_data - training_data[:,15].reshape(-1,1))"
   ]
  },
  {
   "cell_type": "code",
   "execution_count": 95,
   "id": "88f607a0",
   "metadata": {},
   "outputs": [
    {
     "name": "stdout",
     "output_type": "stream",
     "text": [
      "Train Score: 0.12 RMSE\n",
      "Test Score: 0.09 RMSE\n"
     ]
    }
   ],
   "source": [
    "# make predictions\n",
    "test_y_pred = model(test_x)\n",
    "\n",
    "# invert predictions\n",
    "train_y_pred = output_scaler.inverse_transform(train_y_pred.detach().numpy())\n",
    "train_y = output_scaler.inverse_transform(train_y.detach().numpy())\n",
    "test_y_pred = output_scaler.inverse_transform(test_y_pred.detach().numpy())\n",
    "test_y = output_scaler.inverse_transform(test_y.detach().numpy())\n",
    "\n",
    "# calculate root mean squared error\n",
    "trainScore = math.sqrt(mean_squared_error(train_y[:,0], train_y_pred[:,0]))\n",
    "print('Train Score: %.2f RMSE' % (trainScore))\n",
    "testScore = math.sqrt(mean_squared_error(test_y[:,0], test_y_pred[:,0]))\n",
    "print('Test Score: %.2f RMSE' % (testScore))"
   ]
  },
  {
   "cell_type": "code",
   "execution_count": 98,
   "id": "3e862d63",
   "metadata": {},
   "outputs": [
    {
     "data": {
      "image/png": "[encoded data removed]",
      "text/plain": [
       "<Figure size 432x288 with 1 Axes>"
      ]
     },
     "metadata": {
      "needs_background": "light"
     },
     "output_type": "display_data"
    }
   ],
   "source": [
    "plt.plot(range(len(test_y)), test_y)\n",
    "plt.plot(range(len(test_y_pred)), test_y_pred)\n",
    "plt.show()"
   ]
  },
  {
   "cell_type": "code",
   "execution_count": 31,
   "id": "ac8ce753",
   "metadata": {},
   "outputs": [
    {
     "name": "stdout",
     "output_type": "stream",
     "text": [
      "(14874,)\n"
     ]
    }
   ],
   "source": [
    "print((chain_data.iloc[:,12].values.shape))"
   ]
  },
  {
   "cell_type": "code",
   "execution_count": 44,
   "id": "b79ff501",
   "metadata": {},
   "outputs": [
    {
     "ename": "AttributeError",
     "evalue": "'numpy.ndarray' object has no attribute 'len'",
     "output_type": "error",
     "traceback": [
      "\u001b[0;31m---------------------------------------------------------------------------\u001b[0m",
      "\u001b[0;31mAttributeError\u001b[0m                            Traceback (most recent call last)",
      "\u001b[0;32m<ipython-input-44-7564e714bce5>\u001b[0m in \u001b[0;36m<module>\u001b[0;34m\u001b[0m\n\u001b[1;32m      1\u001b[0m \u001b[0mscale\u001b[0m \u001b[0;34m=\u001b[0m \u001b[0mMinMaxScaler\u001b[0m\u001b[0;34m(\u001b[0m\u001b[0;34m)\u001b[0m\u001b[0;34m\u001b[0m\u001b[0;34m\u001b[0m\u001b[0m\n\u001b[1;32m      2\u001b[0m \u001b[0mmean_volume_scaled\u001b[0m \u001b[0;34m=\u001b[0m \u001b[0mscale\u001b[0m\u001b[0;34m.\u001b[0m\u001b[0mfit_transform\u001b[0m\u001b[0;34m(\u001b[0m\u001b[0mchain_data\u001b[0m\u001b[0;34m[\u001b[0m\u001b[0;34m'meanVolume'\u001b[0m\u001b[0;34m]\u001b[0m\u001b[0;34m.\u001b[0m\u001b[0mvalues\u001b[0m\u001b[0;34m.\u001b[0m\u001b[0mreshape\u001b[0m\u001b[0;34m(\u001b[0m\u001b[0;34m-\u001b[0m\u001b[0;36m1\u001b[0m\u001b[0;34m,\u001b[0m\u001b[0;36m1\u001b[0m\u001b[0;34m)\u001b[0m\u001b[0;34m)\u001b[0m\u001b[0;34m\u001b[0m\u001b[0;34m\u001b[0m\u001b[0m\n\u001b[0;32m----> 3\u001b[0;31m \u001b[0mprint\u001b[0m\u001b[0;34m(\u001b[0m\u001b[0mmean_volume_scaled\u001b[0m\u001b[0;34m.\u001b[0m\u001b[0mlen\u001b[0m\u001b[0;34m)\u001b[0m\u001b[0;34m\u001b[0m\u001b[0;34m\u001b[0m\u001b[0m\n\u001b[0m",
      "\u001b[0;31mAttributeError\u001b[0m: 'numpy.ndarray' object has no attribute 'len'"
     ]
    }
   ],
   "source": [
    "\n",
    "mean_volume_scaled = scale.fit_transform(chain_data['meanVolume'].values.reshape(-1,1))\n",
    "print(mean_volume_scaled)"
   ]
  },
  {
   "cell_type": "code",
   "execution_count": 45,
   "id": "6e8b1ea2",
   "metadata": {},
   "outputs": [
    {
     "name": "stdout",
     "output_type": "stream",
     "text": [
      "2021-12-11 19:52:00\n"
     ]
    }
   ],
   "source": [
    "print(chain_data['time'][len(chain_data['time'])-1])"
   ]
  },
  {
   "cell_type": "code",
   "execution_count": null,
   "id": "d65629d7",
   "metadata": {},
   "outputs": [],
   "source": []
  }
 ],
 "metadata": {
  "kernelspec": {
   "display_name": "Python 3",
   "language": "python",
   "name": "python3"
  },
  "language_info": {
   "codemirror_mode": {
    "name": "ipython",
    "version": 3
   },
   "file_extension": ".py",
   "mimetype": "text/x-python",
   "name": "python",
   "nbconvert_exporter": "python",
   "pygments_lexer": "ipython3",
   "version": "3.8.8"
  }
 },
 "nbformat": 4,
 "nbformat_minor": 5
}
