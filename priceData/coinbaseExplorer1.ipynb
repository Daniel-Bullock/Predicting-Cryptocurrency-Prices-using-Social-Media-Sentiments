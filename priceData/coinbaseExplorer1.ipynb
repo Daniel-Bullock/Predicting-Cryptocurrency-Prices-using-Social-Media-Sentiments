{
 "cells": [
  {
   "cell_type": "code",
   "execution_count": 16,
   "id": "e86b106d",
   "metadata": {},
   "outputs": [],
   "source": [
    "import pickle\n",
    "import time\n",
    "from tqdm import tqdm\n",
    "from bitmex import bitmex\n",
    "from datetime import timedelta, datetime\n",
    "from dateutil import parser\n",
    "import math\n",
    "import requests\n",
    "import sys\n",
    "import pandas as pd\n",
    "import json"
   ]
  },
  {
   "cell_type": "code",
   "execution_count": 17,
   "id": "4377e65a",
   "metadata": {},
   "outputs": [],
   "source": [
    "products_response = requests.get(\"https://api.pro.coinbase.com/products\")"
   ]
  },
  {
   "cell_type": "code",
   "execution_count": 55,
   "id": "01253562",
   "metadata": {
    "scrolled": true
   },
   "outputs": [],
   "source": [
    "norm_products = pd.json_normalize(json.loads(products_response.text))"
   ]
  },
  {
   "cell_type": "code",
   "execution_count": 56,
   "id": "f56bd9cc",
   "metadata": {},
   "outputs": [
    {
     "name": "stdout",
     "output_type": "stream",
     "text": [
      "            id base_currency quote_currency base_min_size base_max_size  \\\n",
      "0      ENJ-BTC           ENJ            BTC          0.32         28000   \n",
      "1      VGX-USD           VGX            USD          0.23         13000   \n",
      "2     ALGO-GBP          ALGO            GBP             1        160000   \n",
      "3     USDT-GBP          USDT            GBP          0.97        320000   \n",
      "4      NKN-BTC           NKN            BTC           1.7        120000   \n",
      "..         ...           ...            ...           ...           ...   \n",
      "399    OMG-USD           OMG            USD           0.1         54000   \n",
      "400  DOGE-USDT          DOGE           USDT           3.8        890000   \n",
      "401  MATIC-EUR         MATIC            EUR           0.5        280000   \n",
      "402   XYO-USDT           XYO           USDT            17        880000   \n",
      "403   AAVE-USD          AAVE            USD         0.003          2500   \n",
      "\n",
      "    quote_increment base_increment display_name min_market_funds  \\\n",
      "0         0.0000001           0.01      ENJ/BTC         0.000016   \n",
      "1              0.01           0.01      VGX/USD                1   \n",
      "2            0.0001              1     ALGO/GBP             0.72   \n",
      "3            0.0001           0.01     USDT/GBP             0.72   \n",
      "4         0.0000001            0.1      NKN/BTC         0.000016   \n",
      "..              ...            ...          ...              ...   \n",
      "399            0.01            0.1      OMG/USD                1   \n",
      "400          0.0001            0.1    DOGE/USDT                1   \n",
      "401          0.0001            0.1    MATIC/EUR             0.84   \n",
      "402        0.000001            0.1     XYO/USDT                1   \n",
      "403            0.01          0.001     AAVE/USD                1   \n",
      "\n",
      "    max_market_funds  margin_enabled  fx_stablecoin max_slippage_percentage  \\\n",
      "0                  1           False          False              0.03000000   \n",
      "1              52000           False          False              0.03000000   \n",
      "2             230000           False          False              0.03000000   \n",
      "3             240000           False           True              0.01000000   \n",
      "4                  1           False          False              0.03000000   \n",
      "..               ...             ...            ...                     ...   \n",
      "399           740000           False          False              0.03000000   \n",
      "400           230000           False          False              0.03000000   \n",
      "401           430000           False          False              0.03000000   \n",
      "402            50000           False          False              0.03000000   \n",
      "403           750000           False          False              0.03000000   \n",
      "\n",
      "     post_only  limit_only  cancel_only  trading_disabled  status  \\\n",
      "0        False       False        False             False  online   \n",
      "1        False       False        False             False  online   \n",
      "2        False       False        False             False  online   \n",
      "3        False       False        False             False  online   \n",
      "4        False       False        False             False  online   \n",
      "..         ...         ...          ...               ...     ...   \n",
      "399      False       False        False             False  online   \n",
      "400      False       False        False             False  online   \n",
      "401      False       False        False             False  online   \n",
      "402      False       False        False             False  online   \n",
      "403      False       False        False             False  online   \n",
      "\n",
      "    status_message  auction_mode  \n",
      "0                          False  \n",
      "1                          False  \n",
      "2                          False  \n",
      "3                          False  \n",
      "4                          False  \n",
      "..             ...           ...  \n",
      "399                        False  \n",
      "400                        False  \n",
      "401                        False  \n",
      "402                        False  \n",
      "403                        False  \n",
      "\n",
      "[404 rows x 20 columns]\n"
     ]
    }
   ],
   "source": [
    "print(norm_products)"
   ]
  },
  {
   "cell_type": "code",
   "execution_count": 34,
   "id": "b74f1581",
   "metadata": {},
   "outputs": [],
   "source": [
    "cb_ticker_list = norm_products['id'].tolist()\n",
    "req_ticker_list = ['BTC-USD', 'ETH-USD', 'DOGE-USD', 'SHIB-USD', 'XRP-USD', 'LINK-USD', 'MKR-USD', 'ADA-USD']\n",
    "req_ticker_availability = {}\n",
    "for tkr in req_ticker_list:\n",
    "    req_ticker_availability[tkr] = tkr in cb_ticker_list"
   ]
  },
  {
   "cell_type": "code",
   "execution_count": 35,
   "id": "3e3c6d12",
   "metadata": {},
   "outputs": [
    {
     "name": "stdout",
     "output_type": "stream",
     "text": [
      "{'BTC-USD': True, 'ETH-USD': True, 'DOGE-USD': True, 'SHIB-USD': True, 'XRP-USD': False, 'LINK-USD': True, 'MKR-USD': True, 'ADA-USD': True}\n"
     ]
    }
   ],
   "source": [
    "print(req_ticker_availability)"
   ]
  },
  {
   "cell_type": "code",
   "execution_count": 36,
   "id": "e0608a80",
   "metadata": {},
   "outputs": [],
   "source": [
    "temp_file_handle = open(\"temp_coinbase_ticker_list.txt\", 'w')\n",
    "for tkr in cb_ticker_list:\n",
    "    temp_file_handle.write(tkr + '\\n')\n",
    "temp_file_handle.close()"
   ]
  },
  {
   "cell_type": "code",
   "execution_count": 57,
   "id": "836c42ac",
   "metadata": {},
   "outputs": [
    {
     "name": "stdout",
     "output_type": "stream",
     "text": [
      "2020-12-10 12:10:08 2020-12-10 17:10:08\n"
     ]
    }
   ],
   "source": [
    "max_size = 301\n",
    "binsizes = {\"1m\": 1, \"5m\": 5, \"1h\": 60, \"1d\": 1440}\n",
    "temp_granularity = \"1m\"\n",
    "temp_interval = timedelta(minutes=(max_size-1)*binsizes[temp_granularity])\n",
    "temp_ticker = \"BTC-USD\"\n",
    "time_format = \"%Y-%m-%d %H:%M:%S\"\n",
    "temp_start_string = \"2020-12-10 12:10:08\"\n",
    "#temp_end_string = \"2020-12-10 13:10:08\"\n",
    "temp_start = datetime.strptime(temp_start_string, time_format)\n",
    "#temp_end = datetime.strptime(temp_end_string, time_format)\n",
    "temp_end = temp_start + temp_interval\n",
    "print(temp_start, temp_end)"
   ]
  },
  {
   "cell_type": "code",
   "execution_count": 58,
   "id": "863cf107",
   "metadata": {},
   "outputs": [],
   "source": [
    "temp_response = requests.get(\"https://api.pro.coinbase.com/products/{0}/candles?start={1}&end={2}&granularity={3}\"\\\n",
    "                            .format(temp_ticker, temp_start, temp_end, temp_granularity))"
   ]
  },
  {
   "cell_type": "code",
   "execution_count": 60,
   "id": "3d2fd567",
   "metadata": {},
   "outputs": [
    {
     "name": "stdout",
     "output_type": "stream",
     "text": [
      "[Timestamp('2020-12-10 17:10:00'), Timestamp('2020-12-10 17:09:00'), Timestamp('2020-12-10 17:08:00'), Timestamp('2020-12-10 17:07:00'), Timestamp('2020-12-10 17:06:00'), Timestamp('2020-12-10 17:05:00'), Timestamp('2020-12-10 17:04:00'), Timestamp('2020-12-10 17:03:00'), Timestamp('2020-12-10 17:02:00'), Timestamp('2020-12-10 17:01:00'), Timestamp('2020-12-10 17:00:00'), Timestamp('2020-12-10 16:59:00'), Timestamp('2020-12-10 16:58:00'), Timestamp('2020-12-10 16:57:00'), Timestamp('2020-12-10 16:56:00'), Timestamp('2020-12-10 16:55:00'), Timestamp('2020-12-10 16:54:00'), Timestamp('2020-12-10 16:53:00'), Timestamp('2020-12-10 16:52:00'), Timestamp('2020-12-10 16:51:00'), Timestamp('2020-12-10 16:50:00'), Timestamp('2020-12-10 16:49:00'), Timestamp('2020-12-10 16:48:00'), Timestamp('2020-12-10 16:47:00'), Timestamp('2020-12-10 16:46:00'), Timestamp('2020-12-10 16:45:00'), Timestamp('2020-12-10 16:44:00'), Timestamp('2020-12-10 16:43:00'), Timestamp('2020-12-10 16:42:00'), Timestamp('2020-12-10 16:41:00'), Timestamp('2020-12-10 16:40:00'), Timestamp('2020-12-10 16:39:00'), Timestamp('2020-12-10 16:38:00'), Timestamp('2020-12-10 16:37:00'), Timestamp('2020-12-10 16:36:00'), Timestamp('2020-12-10 16:35:00'), Timestamp('2020-12-10 16:34:00'), Timestamp('2020-12-10 16:33:00'), Timestamp('2020-12-10 16:32:00'), Timestamp('2020-12-10 16:31:00'), Timestamp('2020-12-10 16:30:00'), Timestamp('2020-12-10 16:29:00'), Timestamp('2020-12-10 16:28:00'), Timestamp('2020-12-10 16:27:00'), Timestamp('2020-12-10 16:26:00'), Timestamp('2020-12-10 16:25:00'), Timestamp('2020-12-10 16:24:00'), Timestamp('2020-12-10 16:23:00'), Timestamp('2020-12-10 16:22:00'), Timestamp('2020-12-10 16:21:00'), Timestamp('2020-12-10 16:20:00'), Timestamp('2020-12-10 16:19:00'), Timestamp('2020-12-10 16:18:00'), Timestamp('2020-12-10 16:17:00'), Timestamp('2020-12-10 16:16:00'), Timestamp('2020-12-10 16:15:00'), Timestamp('2020-12-10 16:14:00'), Timestamp('2020-12-10 16:13:00'), Timestamp('2020-12-10 16:12:00'), Timestamp('2020-12-10 16:11:00'), Timestamp('2020-12-10 16:10:00'), Timestamp('2020-12-10 16:09:00'), Timestamp('2020-12-10 16:08:00'), Timestamp('2020-12-10 16:07:00'), Timestamp('2020-12-10 16:06:00'), Timestamp('2020-12-10 16:05:00'), Timestamp('2020-12-10 16:04:00'), Timestamp('2020-12-10 16:03:00'), Timestamp('2020-12-10 16:02:00'), Timestamp('2020-12-10 16:01:00'), Timestamp('2020-12-10 16:00:00'), Timestamp('2020-12-10 15:59:00'), Timestamp('2020-12-10 15:58:00'), Timestamp('2020-12-10 15:57:00'), Timestamp('2020-12-10 15:56:00'), Timestamp('2020-12-10 15:55:00'), Timestamp('2020-12-10 15:54:00'), Timestamp('2020-12-10 15:53:00'), Timestamp('2020-12-10 15:52:00'), Timestamp('2020-12-10 15:51:00'), Timestamp('2020-12-10 15:50:00'), Timestamp('2020-12-10 15:49:00'), Timestamp('2020-12-10 15:48:00'), Timestamp('2020-12-10 15:47:00'), Timestamp('2020-12-10 15:46:00'), Timestamp('2020-12-10 15:45:00'), Timestamp('2020-12-10 15:44:00'), Timestamp('2020-12-10 15:43:00'), Timestamp('2020-12-10 15:42:00'), Timestamp('2020-12-10 15:41:00'), Timestamp('2020-12-10 15:40:00'), Timestamp('2020-12-10 15:39:00'), Timestamp('2020-12-10 15:38:00'), Timestamp('2020-12-10 15:37:00'), Timestamp('2020-12-10 15:36:00'), Timestamp('2020-12-10 15:35:00'), Timestamp('2020-12-10 15:34:00'), Timestamp('2020-12-10 15:33:00'), Timestamp('2020-12-10 15:32:00'), Timestamp('2020-12-10 15:31:00'), Timestamp('2020-12-10 15:30:00'), Timestamp('2020-12-10 15:29:00'), Timestamp('2020-12-10 15:28:00'), Timestamp('2020-12-10 15:27:00'), Timestamp('2020-12-10 15:26:00'), Timestamp('2020-12-10 15:25:00'), Timestamp('2020-12-10 15:24:00'), Timestamp('2020-12-10 15:23:00'), Timestamp('2020-12-10 15:22:00'), Timestamp('2020-12-10 15:21:00'), Timestamp('2020-12-10 15:20:00'), Timestamp('2020-12-10 15:19:00'), Timestamp('2020-12-10 15:18:00'), Timestamp('2020-12-10 15:17:00'), Timestamp('2020-12-10 15:16:00'), Timestamp('2020-12-10 15:15:00'), Timestamp('2020-12-10 15:14:00'), Timestamp('2020-12-10 15:13:00'), Timestamp('2020-12-10 15:12:00'), Timestamp('2020-12-10 15:11:00'), Timestamp('2020-12-10 15:10:00'), Timestamp('2020-12-10 15:09:00'), Timestamp('2020-12-10 15:08:00'), Timestamp('2020-12-10 15:07:00'), Timestamp('2020-12-10 15:06:00'), Timestamp('2020-12-10 15:05:00'), Timestamp('2020-12-10 15:04:00'), Timestamp('2020-12-10 15:03:00'), Timestamp('2020-12-10 15:02:00'), Timestamp('2020-12-10 15:01:00'), Timestamp('2020-12-10 15:00:00'), Timestamp('2020-12-10 14:59:00'), Timestamp('2020-12-10 14:58:00'), Timestamp('2020-12-10 14:57:00'), Timestamp('2020-12-10 14:56:00'), Timestamp('2020-12-10 14:55:00'), Timestamp('2020-12-10 14:54:00'), Timestamp('2020-12-10 14:53:00'), Timestamp('2020-12-10 14:52:00'), Timestamp('2020-12-10 14:51:00'), Timestamp('2020-12-10 14:50:00'), Timestamp('2020-12-10 14:49:00'), Timestamp('2020-12-10 14:48:00'), Timestamp('2020-12-10 14:47:00'), Timestamp('2020-12-10 14:46:00'), Timestamp('2020-12-10 14:45:00'), Timestamp('2020-12-10 14:44:00'), Timestamp('2020-12-10 14:43:00'), Timestamp('2020-12-10 14:42:00'), Timestamp('2020-12-10 14:41:00'), Timestamp('2020-12-10 14:40:00'), Timestamp('2020-12-10 14:39:00'), Timestamp('2020-12-10 14:38:00'), Timestamp('2020-12-10 14:37:00'), Timestamp('2020-12-10 14:36:00'), Timestamp('2020-12-10 14:35:00'), Timestamp('2020-12-10 14:34:00'), Timestamp('2020-12-10 14:33:00'), Timestamp('2020-12-10 14:32:00'), Timestamp('2020-12-10 14:31:00'), Timestamp('2020-12-10 14:30:00'), Timestamp('2020-12-10 14:29:00'), Timestamp('2020-12-10 14:28:00'), Timestamp('2020-12-10 14:27:00'), Timestamp('2020-12-10 14:26:00'), Timestamp('2020-12-10 14:25:00'), Timestamp('2020-12-10 14:24:00'), Timestamp('2020-12-10 14:23:00'), Timestamp('2020-12-10 14:22:00'), Timestamp('2020-12-10 14:21:00'), Timestamp('2020-12-10 14:20:00'), Timestamp('2020-12-10 14:19:00'), Timestamp('2020-12-10 14:18:00'), Timestamp('2020-12-10 14:17:00'), Timestamp('2020-12-10 14:16:00'), Timestamp('2020-12-10 14:15:00'), Timestamp('2020-12-10 14:14:00'), Timestamp('2020-12-10 14:13:00'), Timestamp('2020-12-10 14:12:00'), Timestamp('2020-12-10 14:11:00'), Timestamp('2020-12-10 14:10:00'), Timestamp('2020-12-10 14:09:00'), Timestamp('2020-12-10 14:08:00'), Timestamp('2020-12-10 14:07:00'), Timestamp('2020-12-10 14:06:00'), Timestamp('2020-12-10 14:05:00'), Timestamp('2020-12-10 14:04:00'), Timestamp('2020-12-10 14:03:00'), Timestamp('2020-12-10 14:02:00'), Timestamp('2020-12-10 14:01:00'), Timestamp('2020-12-10 14:00:00'), Timestamp('2020-12-10 13:59:00'), Timestamp('2020-12-10 13:58:00'), Timestamp('2020-12-10 13:57:00'), Timestamp('2020-12-10 13:56:00'), Timestamp('2020-12-10 13:55:00'), Timestamp('2020-12-10 13:54:00'), Timestamp('2020-12-10 13:53:00'), Timestamp('2020-12-10 13:52:00'), Timestamp('2020-12-10 13:51:00'), Timestamp('2020-12-10 13:50:00'), Timestamp('2020-12-10 13:49:00'), Timestamp('2020-12-10 13:48:00'), Timestamp('2020-12-10 13:47:00'), Timestamp('2020-12-10 13:46:00'), Timestamp('2020-12-10 13:45:00'), Timestamp('2020-12-10 13:44:00'), Timestamp('2020-12-10 13:43:00'), Timestamp('2020-12-10 13:42:00'), Timestamp('2020-12-10 13:41:00'), Timestamp('2020-12-10 13:40:00'), Timestamp('2020-12-10 13:39:00'), Timestamp('2020-12-10 13:38:00'), Timestamp('2020-12-10 13:37:00'), Timestamp('2020-12-10 13:36:00'), Timestamp('2020-12-10 13:35:00'), Timestamp('2020-12-10 13:34:00'), Timestamp('2020-12-10 13:33:00'), Timestamp('2020-12-10 13:32:00'), Timestamp('2020-12-10 13:31:00'), Timestamp('2020-12-10 13:30:00'), Timestamp('2020-12-10 13:29:00'), Timestamp('2020-12-10 13:28:00'), Timestamp('2020-12-10 13:27:00'), Timestamp('2020-12-10 13:26:00'), Timestamp('2020-12-10 13:25:00'), Timestamp('2020-12-10 13:24:00'), Timestamp('2020-12-10 13:23:00'), Timestamp('2020-12-10 13:22:00'), Timestamp('2020-12-10 13:21:00'), Timestamp('2020-12-10 13:20:00'), Timestamp('2020-12-10 13:19:00'), Timestamp('2020-12-10 13:18:00'), Timestamp('2020-12-10 13:17:00'), Timestamp('2020-12-10 13:16:00'), Timestamp('2020-12-10 13:15:00'), Timestamp('2020-12-10 13:14:00'), Timestamp('2020-12-10 13:13:00'), Timestamp('2020-12-10 13:12:00'), Timestamp('2020-12-10 13:11:00'), Timestamp('2020-12-10 13:10:00'), Timestamp('2020-12-10 13:09:00'), Timestamp('2020-12-10 13:08:00'), Timestamp('2020-12-10 13:07:00'), Timestamp('2020-12-10 13:06:00'), Timestamp('2020-12-10 13:05:00'), Timestamp('2020-12-10 13:04:00'), Timestamp('2020-12-10 13:03:00'), Timestamp('2020-12-10 13:02:00'), Timestamp('2020-12-10 13:01:00'), Timestamp('2020-12-10 13:00:00'), Timestamp('2020-12-10 12:59:00'), Timestamp('2020-12-10 12:58:00'), Timestamp('2020-12-10 12:57:00'), Timestamp('2020-12-10 12:56:00'), Timestamp('2020-12-10 12:55:00'), Timestamp('2020-12-10 12:54:00'), Timestamp('2020-12-10 12:53:00'), Timestamp('2020-12-10 12:52:00'), Timestamp('2020-12-10 12:51:00'), Timestamp('2020-12-10 12:50:00'), Timestamp('2020-12-10 12:49:00'), Timestamp('2020-12-10 12:48:00'), Timestamp('2020-12-10 12:47:00'), Timestamp('2020-12-10 12:46:00'), Timestamp('2020-12-10 12:45:00'), Timestamp('2020-12-10 12:44:00'), Timestamp('2020-12-10 12:43:00'), Timestamp('2020-12-10 12:42:00'), Timestamp('2020-12-10 12:41:00'), Timestamp('2020-12-10 12:40:00'), Timestamp('2020-12-10 12:39:00'), Timestamp('2020-12-10 12:38:00'), Timestamp('2020-12-10 12:37:00'), Timestamp('2020-12-10 12:36:00'), Timestamp('2020-12-10 12:35:00'), Timestamp('2020-12-10 12:34:00'), Timestamp('2020-12-10 12:33:00'), Timestamp('2020-12-10 12:32:00'), Timestamp('2020-12-10 12:31:00'), Timestamp('2020-12-10 12:30:00'), Timestamp('2020-12-10 12:29:00'), Timestamp('2020-12-10 12:28:00'), Timestamp('2020-12-10 12:27:00'), Timestamp('2020-12-10 12:26:00'), Timestamp('2020-12-10 12:25:00'), Timestamp('2020-12-10 12:24:00'), Timestamp('2020-12-10 12:23:00'), Timestamp('2020-12-10 12:22:00'), Timestamp('2020-12-10 12:21:00'), Timestamp('2020-12-10 12:20:00'), Timestamp('2020-12-10 12:19:00'), Timestamp('2020-12-10 12:18:00'), Timestamp('2020-12-10 12:17:00'), Timestamp('2020-12-10 12:16:00'), Timestamp('2020-12-10 12:15:00'), Timestamp('2020-12-10 12:14:00'), Timestamp('2020-12-10 12:13:00'), Timestamp('2020-12-10 12:12:00'), Timestamp('2020-12-10 12:11:00')]\n"
     ]
    }
   ],
   "source": [
    "temp_norm_response = pd.DataFrame(json.loads(temp_response.text))\n",
    "temp_norm_response[0] = pd.to_datetime(temp_norm_response[0], unit='s')\n",
    "print(temp_norm_response[0].tolist())"
   ]
  },
  {
   "cell_type": "code",
   "execution_count": null,
   "id": "7253ede5",
   "metadata": {},
   "outputs": [],
   "source": []
  }
 ],
 "metadata": {
  "kernelspec": {
   "display_name": "Python 3",
   "language": "python",
   "name": "python3"
  },
  "language_info": {
   "codemirror_mode": {
    "name": "ipython",
    "version": 3
   },
   "file_extension": ".py",
   "mimetype": "text/x-python",
   "name": "python",
   "nbconvert_exporter": "python",
   "pygments_lexer": "ipython3",
   "version": "3.8.8"
  }
 },
 "nbformat": 4,
 "nbformat_minor": 5
}
