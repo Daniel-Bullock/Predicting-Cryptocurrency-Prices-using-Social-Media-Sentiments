{
 "cells": [
  {
   "cell_type": "code",
   "execution_count": 16,
   "id": "37388264",
   "metadata": {},
   "outputs": [],
   "source": [
    "import pickle\n",
    "import time\n",
    "from tqdm import tqdm\n",
    "from bitmex import bitmex\n",
    "from datetime import timedelta, datetime\n",
    "from dateutil import parser\n",
    "import math\n",
    "import requests\n",
    "import sys\n",
    "import pandas as pd\n",
    "import json"
   ]
  },
  {
   "cell_type": "code",
   "execution_count": 17,
   "id": "68da1bca",
   "metadata": {},
   "outputs": [],
   "source": [
    "products_response = requests.get(\"https://api.pro.coinbase.com/products\")"
   ]
  },
  {
   "cell_type": "code",
   "execution_count": 18,
   "id": "4cae2de7",
   "metadata": {
    "scrolled": true
   },
   "outputs": [],
   "source": [
    "norm_products = pd.json_normalize(json.loads(products_response.text))"
   ]
  },
  {
   "cell_type": "code",
   "execution_count": 34,
   "id": "74a10149",
   "metadata": {},
   "outputs": [],
   "source": [
    "cb_ticker_list = norm_products['id'].tolist()\n",
    "req_ticker_list = ['BTC-USD', 'ETH-USD', 'DOGE-USD', 'SHIB-USD', 'XRP-USD', 'LINK-USD', 'MKR-USD', 'ADA-USD']\n",
    "req_ticker_availability = {}\n",
    "for tkr in req_ticker_list:\n",
    "    req_ticker_availability[tkr] = tkr in cb_ticker_list"
   ]
  },
  {
   "cell_type": "code",
   "execution_count": 35,
   "id": "6b85ed34",
   "metadata": {},
   "outputs": [
    {
     "name": "stdout",
     "output_type": "stream",
     "text": [
      "{'BTC-USD': True, 'ETH-USD': True, 'DOGE-USD': True, 'SHIB-USD': True, 'XRP-USD': False, 'LINK-USD': True, 'MKR-USD': True, 'ADA-USD': True}\n"
     ]
    }
   ],
   "source": [
    "print(req_ticker_availability)"
   ]
  },
  {
   "cell_type": "code",
   "execution_count": 36,
   "id": "80df4913",
   "metadata": {},
   "outputs": [],
   "source": [
    "temp_file_handle = open(\"temp_coinbase_ticker_list.txt\", 'w')\n",
    "for tkr in cb_ticker_list:\n",
    "    temp_file_handle.write(tkr + '\\n')\n",
    "temp_file_handle.close()"
   ]
  },
  {
   "cell_type": "code",
   "execution_count": 38,
   "id": "e9a47b34",
   "metadata": {},
   "outputs": [
    {
     "ename": "AttributeError",
     "evalue": "type object 'datetime.datetime' has no attribute 'datetime'",
     "output_type": "error",
     "traceback": [
      "\u001b[0;31m---------------------------------------------------------------------------\u001b[0m",
      "\u001b[0;31mAttributeError\u001b[0m                            Traceback (most recent call last)",
      "\u001b[0;32m<ipython-input-38-591e12e6c7a0>\u001b[0m in \u001b[0;36m<module>\u001b[0;34m\u001b[0m\n\u001b[1;32m      4\u001b[0m \u001b[0mtemp_end_string\u001b[0m \u001b[0;34m=\u001b[0m \u001b[0;34m\"2021-12-10 13:10:08\"\u001b[0m\u001b[0;34m\u001b[0m\u001b[0;34m\u001b[0m\u001b[0m\n\u001b[1;32m      5\u001b[0m \u001b[0mtemp_start\u001b[0m \u001b[0;34m=\u001b[0m \u001b[0mdatetime\u001b[0m\u001b[0;34m.\u001b[0m\u001b[0mstrptime\u001b[0m\u001b[0;34m(\u001b[0m\u001b[0mtemp_start_string\u001b[0m\u001b[0;34m,\u001b[0m \u001b[0mtime_format\u001b[0m\u001b[0;34m)\u001b[0m\u001b[0;34m\u001b[0m\u001b[0;34m\u001b[0m\u001b[0m\n\u001b[0;32m----> 6\u001b[0;31m \u001b[0mtemp_end\u001b[0m \u001b[0;34m=\u001b[0m \u001b[0mdatetime\u001b[0m\u001b[0;34m.\u001b[0m\u001b[0mdatetime\u001b[0m\u001b[0;34m.\u001b[0m\u001b[0mstrptime\u001b[0m\u001b[0;34m(\u001b[0m\u001b[0mtemp_end_string\u001b[0m\u001b[0;34m,\u001b[0m \u001b[0mtime_format\u001b[0m\u001b[0;34m)\u001b[0m\u001b[0;34m\u001b[0m\u001b[0;34m\u001b[0m\u001b[0m\n\u001b[0m\u001b[1;32m      7\u001b[0m \u001b[0mtemp_granularity\u001b[0m \u001b[0;34m=\u001b[0m \u001b[0;34m\"1m\"\u001b[0m\u001b[0;34m\u001b[0m\u001b[0;34m\u001b[0m\u001b[0m\n\u001b[1;32m      8\u001b[0m \u001b[0mprint\u001b[0m\u001b[0;34m(\u001b[0m\u001b[0mtemp_start\u001b[0m\u001b[0;34m)\u001b[0m\u001b[0;34m\u001b[0m\u001b[0;34m\u001b[0m\u001b[0m\n",
      "\u001b[0;31mAttributeError\u001b[0m: type object 'datetime.datetime' has no attribute 'datetime'"
     ]
    }
   ],
   "source": [
    "temp_ticker = \"BTC-USD\"\n",
    "time_format = \"%Y-%m-%d %H:%M:%S\"\n",
    "temp_start_string = \"2021-12-10 12:10:08\"\n",
    "temp_end_string = \"2021-12-10 13:10:08\"\n",
    "temp_start = datetime.strptime(temp_start_string, time_format)\n",
    "temp_end = datetime.strptime(temp_end_string, time_format)\n",
    "temp_granularity = \"1m\"\n",
    "print(temp_start)"
   ]
  },
  {
   "cell_type": "code",
   "execution_count": null,
   "id": "96f74b11",
   "metadata": {},
   "outputs": [],
   "source": []
  }
 ],
 "metadata": {
  "kernelspec": {
   "display_name": "Python 3",
   "language": "python",
   "name": "python3"
  },
  "language_info": {
   "codemirror_mode": {
    "name": "ipython",
    "version": 3
   },
   "file_extension": ".py",
   "mimetype": "text/x-python",
   "name": "python",
   "nbconvert_exporter": "python",
   "pygments_lexer": "ipython3",
   "version": "3.8.8"
  }
 },
 "nbformat": 4,
 "nbformat_minor": 5
}
