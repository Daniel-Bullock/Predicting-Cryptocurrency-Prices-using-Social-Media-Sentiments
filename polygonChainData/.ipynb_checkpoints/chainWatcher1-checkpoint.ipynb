{
 "cells": [
  {
   "cell_type": "code",
   "execution_count": 1,
   "id": "1eb2fdb8",
   "metadata": {},
   "outputs": [],
   "source": [
    "# Code for testing connectivity with Infuria and basic functionalities of Web3\n",
    "\n",
    "from web3 import Web3\n",
    "import json\n",
    "import sys\n",
    "import time"
   ]
  },
  {
   "cell_type": "code",
   "execution_count": 8,
   "id": "8311f0fd",
   "metadata": {},
   "outputs": [],
   "source": [
    "w3 = Web3(Web3.HTTPProvider('https://polygon-mainnet.infura.io/v3/74a63497e0374a9abdbb90d60d1fd4e3')) #Conenct to JSON-RPC HTTP service at Infuria\n"
   ]
  },
  {
   "cell_type": "code",
   "execution_count": 9,
   "id": "40809b3d",
   "metadata": {},
   "outputs": [
    {
     "name": "stdout",
     "output_type": "stream",
     "text": [
      "True\n",
      "22287064\n"
     ]
    }
   ],
   "source": [
    "print(w3.isConnected()) #Check if we are connected\n",
    "print(w3.eth.blockNumber) # Check the chain height"
   ]
  },
  {
   "cell_type": "code",
   "execution_count": 12,
   "id": "3ea39d28",
   "metadata": {},
   "outputs": [],
   "source": [
    "tokenAddress = Web3.toChecksumAddress('0x53e0bca35ec356bd5dddfebbd1fc0fd03fabad39') #Chainlink contract address\n",
    "with open('../ethChainData/contracts/LINK/abi.json') as f: #Chainlink ABI (ERC 667) from https://github.com/smartcontractkit/LinkToken/tree/master/contracts/v0.6\n",
    "    tokenAbi = json.loads(f.read())"
   ]
  },
  {
   "cell_type": "code",
   "execution_count": 13,
   "id": "4967c20e",
   "metadata": {},
   "outputs": [],
   "source": [
    "tokenContract = w3.eth.contract(address=tokenAddress, abi=tokenAbi)"
   ]
  },
  {
   "cell_type": "code",
   "execution_count": 14,
   "id": "f50ab66d",
   "metadata": {},
   "outputs": [
    {
     "name": "stdout",
     "output_type": "stream",
     "text": [
      "1753511.514042905901913876\n",
      "ChainLink Token\n",
      "LINK\n",
      "0\n",
      "Decimals = 18\n"
     ]
    }
   ],
   "source": [
    "totalSupply = tokenContract.functions.totalSupply().call()\n",
    "print(w3.fromWei(totalSupply, 'ether'))\n",
    "print(tokenContract.functions.name().call())\n",
    "print(tokenContract.functions.symbol().call())\n",
    "balance = tokenContract.functions.balanceOf(Web3.toChecksumAddress(\"0x3cD751E6b0078Be393132286c442345e5DC49699\")).call()\n",
    "print(w3.fromWei(balance, 'ether'))\n",
    "print(\"Decimals = \" + str(tokenContract.functions.decimals().call()))"
   ]
  },
  {
   "cell_type": "code",
   "execution_count": null,
   "id": "c4010602",
   "metadata": {},
   "outputs": [],
   "source": []
  }
 ],
 "metadata": {
  "kernelspec": {
   "display_name": "Python 3",
   "language": "python",
   "name": "python3"
  },
  "language_info": {
   "codemirror_mode": {
    "name": "ipython",
    "version": 3
   },
   "file_extension": ".py",
   "mimetype": "text/x-python",
   "name": "python",
   "nbconvert_exporter": "python",
   "pygments_lexer": "ipython3",
   "version": "3.8.8"
  }
 },
 "nbformat": 4,
 "nbformat_minor": 5
}
