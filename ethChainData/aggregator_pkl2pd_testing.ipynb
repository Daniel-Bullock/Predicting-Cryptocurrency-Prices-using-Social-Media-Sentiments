{
 "cells": [
  {
   "cell_type": "code",
   "execution_count": 1,
   "id": "36567aa0",
   "metadata": {},
   "outputs": [],
   "source": [
    "import pickle\n",
    "import time\n",
    "from tqdm import tqdm\n",
    "from datetime import timedelta, datetime\n",
    "from dateutil import parser\n",
    "import math\n",
    "import sys\n",
    "import pandas as pd\n",
    "import json\n",
    "import numpy as np"
   ]
  },
  {
   "cell_type": "code",
   "execution_count": 3,
   "id": "b6cc7ba4",
   "metadata": {},
   "outputs": [],
   "source": [
    "stored_vars = pickle.load(open('data/LINK_eth_transfer_list_final.pickle','rb'))"
   ]
  },
  {
   "cell_type": "code",
   "execution_count": 76,
   "id": "174a9b6b",
   "metadata": {},
   "outputs": [
    {
     "name": "stdout",
     "output_type": "stream",
     "text": [
      "2021-11-30T16:35:07\n",
      "2021-11-30T16:35:00 2021-11-30T16:00:00\n"
     ]
    }
   ],
   "source": [
    "print(stored_vars[\"timeStampList\"][1])\n",
    "timeStampList = stored_vars[\"timeStampList\"]\n",
    "timeStampList1m = []\n",
    "timeStampList1h = []\n",
    "for i in range(len(timeStampList)):\n",
    "    timeStampList1m.append(timeStampList[i][:17]+'00')\n",
    "    timeStampList1h.append(timeStampList[i][:14]+'00:00')\n",
    "print(timeStampList1m[0], timeStampList1h[0])"
   ]
  },
  {
   "cell_type": "code",
   "execution_count": 73,
   "id": "29c13df6",
   "metadata": {},
   "outputs": [
    {
     "name": "stdout",
     "output_type": "stream",
     "text": [
      "2021-11-30 16:35:07\n"
     ]
    }
   ],
   "source": [
    "temp_timestamp = datetime.fromisoformat(stored_vars[\"timeStampList\"][1])\n",
    "print(temp_timestamp)"
   ]
  },
  {
   "cell_type": "code",
   "execution_count": 77,
   "id": "29d86773",
   "metadata": {},
   "outputs": [],
   "source": [
    "data = pd.DataFrame(list(zip(stored_vars[\"timeStampList\"],stored_vars[\"transferValueList\"],stored_vars[\"transferFromBalanceList\"],stored_vars[\"transferToBalanceList\"])), columns = ['time', 'volume', 'fromBalance', 'toBalance'])\n",
    "data1h = pd.DataFrame(list(zip(timeStampList1h,stored_vars[\"transferValueList\"],stored_vars[\"transferFromBalanceList\"],stored_vars[\"transferToBalanceList\"])), columns = ['time', 'volume', 'fromBalance', 'toBalance'])\n",
    "data1m = pd.DataFrame(list(zip(timeStampList1m,stored_vars[\"transferValueList\"],stored_vars[\"transferFromBalanceList\"],stored_vars[\"transferToBalanceList\"])), columns = ['time', 'volume', 'fromBalance', 'toBalance'])"
   ]
  },
  {
   "cell_type": "code",
   "execution_count": 78,
   "id": "5dcb9da0",
   "metadata": {},
   "outputs": [],
   "source": [
    "data[\"time\"] = pd.to_datetime(data[\"time\"], infer_datetime_format=True)\n",
    "data[\"volume\"] = pd.to_numeric(data[\"volume\"])\n",
    "data[\"fromBalance\"] = pd.to_numeric(data[\"fromBalance\"])\n",
    "data[\"toBalance\"] = pd.to_numeric(data[\"toBalance\"])\n",
    "\n",
    "data1h[\"time\"] = pd.to_datetime(data1h[\"time\"], infer_datetime_format=True)\n",
    "data1h[\"volume\"] = pd.to_numeric(data1h[\"volume\"])\n",
    "data1h[\"fromBalance\"] = pd.to_numeric(data1h[\"fromBalance\"])\n",
    "data1h[\"toBalance\"] = pd.to_numeric(data1h[\"toBalance\"])\n",
    "\n",
    "data1m[\"time\"] = pd.to_datetime(data1m[\"time\"], infer_datetime_format=True)\n",
    "data1m[\"volume\"] = pd.to_numeric(data1m[\"volume\"])\n",
    "data1m[\"fromBalance\"] = pd.to_numeric(data1m[\"fromBalance\"])\n",
    "data1m[\"toBalance\"] = pd.to_numeric(data1m[\"toBalance\"])"
   ]
  },
  {
   "cell_type": "code",
   "execution_count": 79,
   "id": "a13b84c4",
   "metadata": {},
   "outputs": [],
   "source": [
    "column_list = [\"time\", \"meanVolume\", \"meanFromBalance\", \"meanToBalance\", \"medianVolume\", \"medianFromBalance\",\\\n",
    "               \"medianToBalance\", \"maxVolume\", \"maxFromBalance\", \"maxToBalance\", \"sumVolume\", \"sumFromBalance\", \"sumToBalance\" ]"
   ]
  },
  {
   "cell_type": "code",
   "execution_count": 80,
   "id": "8856ed8b",
   "metadata": {},
   "outputs": [],
   "source": [
    "mean_data1h = data1h.groupby([\"time\"]).mean()\n",
    "median_data1h = data1h.groupby([\"time\"]).median()\n",
    "max_data1h = data1h.groupby([\"time\"]).max()\n",
    "sum_data1h = data1h.groupby([\"time\"]).sum()\n",
    "\n",
    "mean_data1m = data1m.groupby([\"time\"]).mean()\n",
    "median_data1m = data1m.groupby([\"time\"]).median()\n",
    "max_data1m = data1m.groupby([\"time\"]).max()\n",
    "sum_data1m = data1m.groupby([\"time\"]).sum()"
   ]
  },
  {
   "cell_type": "code",
   "execution_count": 81,
   "id": "ed59f584",
   "metadata": {},
   "outputs": [],
   "source": [
    "stat_data1h = pd.merge(mean_data1h, median_data1h, on=\"time\")\n",
    "stat_data1h = pd.merge(stat_data1h, max_data1h, on=\"time\")\n",
    "stat_data1h = pd.merge(stat_data1h, sum_data1h, on=\"time\")\n",
    "stat_data1h = pd.merge(pd.DataFrame(stat_data1h.index), stat_data1h, on=\"time\")\n",
    "stat_data1h.columns = column_list\n",
    "\n",
    "stat_data1m = pd.merge(mean_data1m, median_data1m, on=\"time\")\n",
    "stat_data1m = pd.merge(stat_data1m, max_data1m, on=\"time\")\n",
    "stat_data1m = pd.merge(stat_data1m, sum_data1m, on=\"time\")\n",
    "stat_data1m = pd.merge(pd.DataFrame(stat_data1m.index), stat_data1m, on=\"time\")\n",
    "stat_data1m.columns = column_list"
   ]
  },
  {
   "cell_type": "code",
   "execution_count": 82,
   "id": "7e52de1c",
   "metadata": {},
   "outputs": [
    {
     "name": "stdout",
     "output_type": "stream",
     "text": [
      "                     time    meanVolume  meanFromBalance  meanToBalance  \\\n",
      "0     2021-11-30 16:35:00  3.642499e+20     1.686824e+06    4791.565609   \n",
      "1     2021-11-30 16:36:00  3.290219e+20     0.000000e+00  658049.550715   \n",
      "2     2021-11-30 16:37:00  1.204266e+21     3.901061e+06    9583.131219   \n",
      "3     2021-11-30 16:38:00  5.617914e+19     2.028188e+05  147058.317108   \n",
      "4     2021-11-30 16:39:00  2.337520e+20     2.575410e+05      97.986140   \n",
      "...                   ...           ...              ...            ...   \n",
      "14869 2021-12-11 19:47:00  1.295969e+21     2.789912e+05   65283.437238   \n",
      "14870 2021-12-11 19:49:00  2.583157e+19     1.492031e+06    1810.664895   \n",
      "14871 2021-12-11 19:50:00  1.284027e+18     3.748392e+04       1.284027   \n",
      "14872 2021-12-11 19:51:00  1.097508e+21     2.028490e+05  193793.580143   \n",
      "14873 2021-12-11 19:52:00  9.749775e+18     0.000000e+00  178043.362814   \n",
      "\n",
      "       medianVolume  medianFromBalance  medianToBalance     maxVolume  \\\n",
      "0      3.581353e+19       1.769255e+05         0.000000  1.379588e+21   \n",
      "1      4.099943e+20       0.000000e+00     18523.640979  4.408630e+20   \n",
      "2      1.204266e+21       3.901061e+06      9583.131219  1.444393e+21   \n",
      "3      3.285590e+19       1.600000e-01         0.000000  2.000075e+20   \n",
      "4      2.566307e+20       1.628900e+05        10.873212  4.000000e+20   \n",
      "...             ...                ...              ...           ...   \n",
      "14869  1.711990e+19       1.780434e+05         6.645761  6.425545e+21   \n",
      "14870  9.756721e+18       6.696577e+00       171.088000  6.108800e+19   \n",
      "14871  1.284027e+18       3.748392e+04         1.284027  1.284027e+18   \n",
      "14872  2.434625e+19       1.013230e+03       216.553120  6.425545e+21   \n",
      "14873  9.749775e+18       0.000000e+00    178043.362814  9.749775e+18   \n",
      "\n",
      "       maxFromBalance  maxToBalance     sumVolume  sumFromBalance  \\\n",
      "0        6.393446e+06  1.916626e+04  1.457000e+21    6.747297e+06   \n",
      "1        0.000000e+00  1.955625e+06  9.870656e+20    0.000000e+00   \n",
      "2        6.393446e+06  1.916626e+04  2.408532e+21    7.802121e+06   \n",
      "3        8.905216e+05  8.820264e+05  3.370748e+20    1.216913e+06   \n",
      "4        7.043839e+05  3.701981e+02  9.350078e+20    1.030164e+06   \n",
      "...               ...           ...           ...             ...   \n",
      "14869    8.905216e+05  3.263911e+05  6.479843e+21    1.394956e+06   \n",
      "14870    4.476086e+06  5.254257e+03  7.749472e+19    4.476093e+06   \n",
      "14871    3.748392e+04  1.284027e+00  1.284027e+18    3.748392e+04   \n",
      "14872    8.886764e+05  7.912054e+05  6.585046e+21    1.217094e+06   \n",
      "14873    0.000000e+00  1.780434e+05  9.749775e+18    0.000000e+00   \n",
      "\n",
      "       sumToBalance  \n",
      "0      1.916626e+04  \n",
      "1      1.974149e+06  \n",
      "2      1.916626e+04  \n",
      "3      8.823499e+05  \n",
      "4      3.919446e+02  \n",
      "...             ...  \n",
      "14869  3.264172e+05  \n",
      "14870  5.431995e+03  \n",
      "14871  1.284027e+00  \n",
      "14872  1.162761e+06  \n",
      "14873  1.780434e+05  \n",
      "\n",
      "[14874 rows x 13 columns]\n"
     ]
    }
   ],
   "source": [
    "print(stat_data1m)"
   ]
  },
  {
   "cell_type": "code",
   "execution_count": 83,
   "id": "d34199df",
   "metadata": {},
   "outputs": [
    {
     "name": "stdout",
     "output_type": "stream",
     "text": [
      "                   time    meanVolume  meanFromBalance  meanToBalance  \\\n",
      "0   2021-11-30 16:00:00  8.214329e+20     6.006913e+05  133656.213149   \n",
      "1   2021-11-30 17:00:00  8.043127e+20     4.407991e+05  521509.149010   \n",
      "2   2021-11-30 18:00:00  1.100674e+21     4.106609e+05  881509.178126   \n",
      "3   2021-11-30 19:00:00  1.098291e+21     6.098175e+05  584854.515687   \n",
      "4   2021-11-30 20:00:00  9.155371e+20     6.148066e+05  490962.640229   \n",
      "..                  ...           ...              ...            ...   \n",
      "263 2021-12-11 15:00:00  1.517508e+21     1.249173e+06  458445.769676   \n",
      "264 2021-12-11 16:00:00  2.889769e+21     7.073483e+05  446724.038937   \n",
      "265 2021-12-11 17:00:00  1.032768e+21     4.535438e+05  756807.390443   \n",
      "266 2021-12-11 18:00:00  2.581545e+20     3.858963e+05  302680.912414   \n",
      "267 2021-12-11 19:00:00  1.299251e+21     6.890398e+05  486760.794633   \n",
      "\n",
      "     medianVolume  medianFromBalance  medianToBalance     maxVolume  \\\n",
      "0    1.569324e+20         435.042246         7.080489  7.421117e+21   \n",
      "1    7.452417e+19         435.042246         9.430114  1.910353e+22   \n",
      "2    6.250000e+19          50.000000        47.980000  6.142728e+22   \n",
      "3    4.911606e+19        1124.715389        25.000000  1.639335e+22   \n",
      "4    6.000000e+19       35444.600549        21.176000  2.056649e+22   \n",
      "..            ...                ...              ...           ...   \n",
      "263  1.023257e+20       16646.745395       400.711812  1.987200e+22   \n",
      "264  1.442063e+20       30436.570575      2120.656687  3.610640e+22   \n",
      "265  7.162756e+19          39.682916       864.055314  5.000000e+22   \n",
      "266  2.640208e+19           0.000000      1937.358473  1.987136e+22   \n",
      "267  5.532805e+19        1700.006849        82.291000  2.882996e+22   \n",
      "\n",
      "     maxFromBalance  maxToBalance     sumVolume  sumFromBalance  sumToBalance  \n",
      "0      6.393446e+06  2.679244e+06  8.871475e+22    6.487466e+07  1.443487e+07  \n",
      "1      1.169036e+07  1.197667e+07  3.008130e+23    1.648589e+08  1.950444e+08  \n",
      "2      1.678860e+07  1.197667e+07  2.993834e+23    1.116998e+08  2.397705e+08  \n",
      "3      1.169036e+07  1.169036e+07  3.459617e+23    1.920925e+08  1.842292e+08  \n",
      "4      1.169036e+07  1.197667e+07  2.078269e+23    1.395611e+08  1.114485e+08  \n",
      "..              ...           ...           ...             ...           ...  \n",
      "263    1.678860e+07  1.678860e+07  3.717895e+23    3.060474e+08  1.123192e+08  \n",
      "264    1.169036e+07  1.197667e+07  5.808436e+23    1.421770e+08  8.979153e+07  \n",
      "265    1.169036e+07  1.678860e+07  3.253219e+23    1.428663e+08  2.383943e+08  \n",
      "266    1.169036e+07  1.678860e+07  6.092447e+22    9.107152e+07  7.143270e+07  \n",
      "267    1.678860e+07  1.678860e+07  2.221719e+23    1.178258e+08  8.323610e+07  \n",
      "\n",
      "[268 rows x 13 columns]\n"
     ]
    }
   ],
   "source": [
    "print(stat_data1h)"
   ]
  },
  {
   "cell_type": "code",
   "execution_count": null,
   "id": "4085116a",
   "metadata": {},
   "outputs": [],
   "source": []
  }
 ],
 "metadata": {
  "kernelspec": {
   "display_name": "Python 3",
   "language": "python",
   "name": "python3"
  },
  "language_info": {
   "codemirror_mode": {
    "name": "ipython",
    "version": 3
   },
   "file_extension": ".py",
   "mimetype": "text/x-python",
   "name": "python",
   "nbconvert_exporter": "python",
   "pygments_lexer": "ipython3",
   "version": "3.8.8"
  }
 },
 "nbformat": 4,
 "nbformat_minor": 5
}
