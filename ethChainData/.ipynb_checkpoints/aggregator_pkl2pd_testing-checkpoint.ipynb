{
 "cells": [
  {
   "cell_type": "code",
   "execution_count": 1,
   "id": "8162d69d",
   "metadata": {},
   "outputs": [],
   "source": [
    "import pickle\n",
    "import time\n",
    "from tqdm import tqdm\n",
    "from datetime import timedelta, datetime\n",
    "from dateutil import parser\n",
    "import math\n",
    "import sys\n",
    "import pandas as pd\n",
    "import json"
   ]
  },
  {
   "cell_type": "code",
   "execution_count": 3,
   "id": "985bb007",
   "metadata": {},
   "outputs": [],
   "source": [
    "stored_vars = pickle.load(open('data/LINK_eth_transfer_list_final.pickle','rb'))"
   ]
  },
  {
   "cell_type": "code",
   "execution_count": 12,
   "id": "caffdbd9",
   "metadata": {},
   "outputs": [
    {
     "name": "stdout",
     "output_type": "stream",
     "text": [
      "2021-11-30T16:35:07\n"
     ]
    }
   ],
   "source": [
    "print(stored_vars[\"timeStampList\"][1])"
   ]
  },
  {
   "cell_type": "code",
   "execution_count": 20,
   "id": "35b39d98",
   "metadata": {},
   "outputs": [
    {
     "ename": "TypeError",
     "evalue": "fromisoformat: argument must be str",
     "output_type": "error",
     "traceback": [
      "\u001b[0;31m---------------------------------------------------------------------------\u001b[0m",
      "\u001b[0;31mTypeError\u001b[0m                                 Traceback (most recent call last)",
      "\u001b[0;32m<ipython-input-20-971830e1a192>\u001b[0m in \u001b[0;36m<module>\u001b[0;34m\u001b[0m\n\u001b[0;32m----> 1\u001b[0;31m \u001b[0mtemp_timestamp\u001b[0m \u001b[0;34m=\u001b[0m \u001b[0mdatetime\u001b[0m\u001b[0;34m.\u001b[0m\u001b[0mfromisoformat\u001b[0m\u001b[0;34m(\u001b[0m\u001b[0mstored_vars\u001b[0m\u001b[0;34m[\u001b[0m\u001b[0;34m\"timeStampList\"\u001b[0m\u001b[0;34m]\u001b[0m\u001b[0;34m)\u001b[0m\u001b[0;34m\u001b[0m\u001b[0;34m\u001b[0m\u001b[0m\n\u001b[0m\u001b[1;32m      2\u001b[0m \u001b[0mprint\u001b[0m\u001b[0;34m(\u001b[0m\u001b[0mtemp_timestamp\u001b[0m\u001b[0;34m)\u001b[0m\u001b[0;34m\u001b[0m\u001b[0;34m\u001b[0m\u001b[0m\n",
      "\u001b[0;31mTypeError\u001b[0m: fromisoformat: argument must be str"
     ]
    }
   ],
   "source": [
    "temp_timestamp = datetime.fromisoformat(stored_vars[\"timeStampList\"][1])\n",
    "print(temp_timestamp)"
   ]
  },
  {
   "cell_type": "code",
   "execution_count": 19,
   "id": "1965bebf",
   "metadata": {},
   "outputs": [],
   "source": [
    "data = pd.DataFrame(list(zip(stored_vars[\"timeStampList\"],stored_vars[\"transferValueList\"],stored_vars[\"transferFromBalanceList\"],stored_vars[\"transferToBalanceList\"])), columns = ['time', 'volume', 'fromBalance', 'toBalance'])"
   ]
  },
  {
   "cell_type": "code",
   "execution_count": null,
   "id": "3c5fbafc",
   "metadata": {},
   "outputs": [],
   "source": []
  }
 ],
 "metadata": {
  "kernelspec": {
   "display_name": "Python 3",
   "language": "python",
   "name": "python3"
  },
  "language_info": {
   "codemirror_mode": {
    "name": "ipython",
    "version": 3
   },
   "file_extension": ".py",
   "mimetype": "text/x-python",
   "name": "python",
   "nbconvert_exporter": "python",
   "pygments_lexer": "ipython3",
   "version": "3.8.8"
  }
 },
 "nbformat": 4,
 "nbformat_minor": 5
}
