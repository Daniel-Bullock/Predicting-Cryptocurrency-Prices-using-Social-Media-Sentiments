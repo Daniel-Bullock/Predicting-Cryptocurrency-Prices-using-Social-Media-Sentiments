{
 "cells": [
  {
   "cell_type": "code",
   "execution_count": 13,
   "id": "8defe4f1",
   "metadata": {},
   "outputs": [],
   "source": [
    "from web3 import Web3\n",
    "import json\n",
    "import sys\n",
    "import time\n",
    "import pickle"
   ]
  },
  {
   "cell_type": "code",
   "execution_count": 14,
   "id": "ee52c219",
   "metadata": {},
   "outputs": [],
   "source": [
    "w3 = Web3(Web3.HTTPProvider('https://mainnet.infura.io/v3/b40beb8540af492e968e6b67952443cc')) #Conenct to JSON-RPC HTTP service at Infuria"
   ]
  },
  {
   "cell_type": "code",
   "execution_count": 15,
   "id": "d89724b3",
   "metadata": {},
   "outputs": [],
   "source": [
    "tokenAddress = Web3.toChecksumAddress('0x514910771af9ca656af840dff83e8264ecf986ca') #Chainlink contract address\n",
    "with open('contracts/LINK/abi.json') as f: #Chainlink ABI (ERC 667) from https://github.com/smartcontractkit/LinkToken/tree/master/contracts/v0.6\n",
    "    tokenAbi = json.loads(f.read())\n",
    "tokenContract = w3.eth.contract(address=tokenAddress, abi=tokenAbi)"
   ]
  },
  {
   "cell_type": "code",
   "execution_count": 16,
   "id": "0f444cf0",
   "metadata": {},
   "outputs": [],
   "source": [
    "jsonFile = open('data/LINK-transfer-state.json','r') #Source data file with token trasfer data\n",
    "records = json.load(jsonFile)"
   ]
  },
  {
   "cell_type": "code",
   "execution_count": 17,
   "id": "0759c400",
   "metadata": {},
   "outputs": [],
   "source": [
    "transferValueList = []  #List that stores the time series of transfer values\n",
    "timestampList = []\n",
    "for blockNumber in records[\"blocks\"]:\n",
    "    for transactionHash in records[\"blocks\"][blockNumber]:\n",
    "        for logIndex in records[\"blocks\"][blockNumber][transactionHash]:\n",
    "            transferValueList.append(records[\"blocks\"][blockNumber][transactionHash][logIndex][\"value\"]) \n",
    "            timestampList.append(records[\"blocks\"][blockNumber][transactionHash][logIndex][\"timestamp\"]) "
   ]
  },
  {
   "cell_type": "code",
   "execution_count": 18,
   "id": "238a7b7f",
   "metadata": {},
   "outputs": [],
   "source": [
    "transferFromBalance = [] #List that stores the current balance of accounts that sent tokens \n",
    "transferToBalance = [] ##List that stores the current balance of accounts that received tokens \n",
    "for blockNumber in records[\"blocks\"]:\n",
    "    for transactionHash in records[\"blocks\"][blockNumber]:\n",
    "        for logIndex in records[\"blocks\"][blockNumber][transactionHash]:\n",
    "            transferFromBalance.append(w3.fromWei(tokenContract.functions.balanceOf(Web3.toChecksumAddress(records[\"blocks\"][blockNumber][transactionHash][logIndex][\"from\"])).call(), 'ether'))\n",
    "            transferToBalance.append(w3.fromWei(tokenContract.functions.balanceOf(Web3.toChecksumAddress(records[\"blocks\"][blockNumber][transactionHash][logIndex][\"to\"])).call(), 'ether'))"
   ]
  },
  {
   "cell_type": "code",
   "execution_count": 19,
   "id": "df74d6c8",
   "metadata": {},
   "outputs": [
    {
     "name": "stdout",
     "output_type": "stream",
     "text": [
      "437\n",
      "786\n",
      "786\n"
     ]
    }
   ],
   "source": [
    "print(len(records[\"blocks\"]))\n",
    "print(len(transferValueList))\n",
    "print(len(transferFromBalance))"
   ]
  },
  {
   "cell_type": "code",
   "execution_count": 21,
   "id": "14970424",
   "metadata": {},
   "outputs": [],
   "source": [
    "stored_vars={}\n",
    "stored_vars[\"timeStampList\"] = timestampList\n",
    "stored_vars[\"transferValueList\"] = transferValueList\n",
    "stored_vars[\"transferFromBalanceList\"] = transferFromBalance\n",
    "stored_vars[\"transferToBalanceList\"] = transferToBalance\n",
    "\n",
    "with open('data/LINK_transfer_list.pickle','wb') as handle:\n",
    "    pickle.dump(stored_vars, handle, protocol = pickle.HIGHEST_PROTOCOL)"
   ]
  },
  {
   "cell_type": "code",
   "execution_count": null,
   "id": "5066af0d",
   "metadata": {},
   "outputs": [],
   "source": []
  }
 ],
 "metadata": {
  "kernelspec": {
   "display_name": "Python 3",
   "language": "python",
   "name": "python3"
  },
  "language_info": {
   "codemirror_mode": {
    "name": "ipython",
    "version": 3
   },
   "file_extension": ".py",
   "mimetype": "text/x-python",
   "name": "python",
   "nbconvert_exporter": "python",
   "pygments_lexer": "ipython3",
   "version": "3.8.8"
  }
 },
 "nbformat": 4,
 "nbformat_minor": 5
}
