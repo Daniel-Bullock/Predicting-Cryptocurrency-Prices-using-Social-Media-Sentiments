{
 "cells": [
  {
   "cell_type": "code",
   "execution_count": 56,
   "id": "8defe4f1",
   "metadata": {},
   "outputs": [],
   "source": [
    "from web3 import Web3\n",
    "import json\n",
    "import sys\n",
    "import time"
   ]
  },
  {
   "cell_type": "code",
   "execution_count": 57,
   "id": "ee52c219",
   "metadata": {},
   "outputs": [],
   "source": [
    "w3 = Web3(Web3.HTTPProvider('https://mainnet.infura.io/v3/b40beb8540af492e968e6b67952443cc')) #Conenct to JSON-RPC HTTP service at Infuria"
   ]
  },
  {
   "cell_type": "code",
   "execution_count": 58,
   "id": "d89724b3",
   "metadata": {},
   "outputs": [],
   "source": [
    "tokenAddress = Web3.toChecksumAddress('0x514910771af9ca656af840dff83e8264ecf986ca') #Chainlink contract address\n",
    "with open('contracts/LINK/abi.json') as f: #Chainlink ABI (ERC 667) from https://github.com/smartcontractkit/LinkToken/tree/master/contracts/v0.6\n",
    "    tokenAbi = json.loads(f.read())\n",
    "tokenContract = w3.eth.contract(address=tokenAddress, abi=tokenAbi)"
   ]
  },
  {
   "cell_type": "code",
   "execution_count": 59,
   "id": "0f444cf0",
   "metadata": {},
   "outputs": [],
   "source": [
    "jsonFile = open('LINK-transfer-state.json','r') #Source data file with token trasfer data\n",
    "records = json.load(jsonFile)"
   ]
  },
  {
   "cell_type": "code",
   "execution_count": 62,
   "id": "0759c400",
   "metadata": {},
   "outputs": [],
   "source": [
    "transferValueList = []  #List that stores the time series of transfer values\n",
    "for blockNumber in records[\"blocks\"]:\n",
    "    for transactionHash in records[\"blocks\"][blockNumber]:\n",
    "        for logIndex in records[\"blocks\"][blockNumber][transactionHash]:\n",
    "            transferValueList.append(records[\"blocks\"][blockNumber][transactionHash][logIndex][\"value\"]) "
   ]
  },
  {
   "cell_type": "code",
   "execution_count": 63,
   "id": "238a7b7f",
   "metadata": {},
   "outputs": [],
   "source": [
    "transferFromBalance = [] #List that stores the current balance of accounts that sent tokens \n",
    "transferToBalance = [] ##List that stores the current balance of accounts that received tokens \n",
    "for blockNumber in records[\"blocks\"]:\n",
    "    for transactionHash in records[\"blocks\"][blockNumber]:\n",
    "        for logIndex in records[\"blocks\"][blockNumber][transactionHash]:\n",
    "            transferFromBalance.append(w3.fromWei(tokenContract.functions.balanceOf(Web3.toChecksumAddress(records[\"blocks\"][blockNumber][transactionHash][logIndex][\"from\"])).call(), 'ether'))\n",
    "            transferToBalance.append(w3.fromWei(tokenContract.functions.balanceOf(Web3.toChecksumAddress(records[\"blocks\"][blockNumber][transactionHash][logIndex][\"to\"])).call(), 'ether'))"
   ]
  },
  {
   "cell_type": "code",
   "execution_count": null,
   "id": "14970424",
   "metadata": {},
   "outputs": [],
   "source": []
  }
 ],
 "metadata": {
  "kernelspec": {
   "display_name": "Python 3",
   "language": "python",
   "name": "python3"
  },
  "language_info": {
   "codemirror_mode": {
    "name": "ipython",
    "version": 3
   },
   "file_extension": ".py",
   "mimetype": "text/x-python",
   "name": "python",
   "nbconvert_exporter": "python",
   "pygments_lexer": "ipython3",
   "version": "3.8.8"
  }
 },
 "nbformat": 4,
 "nbformat_minor": 5
}
